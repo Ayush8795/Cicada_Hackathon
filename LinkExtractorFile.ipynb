{
  "nbformat": 4,
  "nbformat_minor": 0,
  "metadata": {
    "colab": {
      "provenance": [],
      "authorship_tag": "ABX9TyNhiBkfgrjXh6ZENyl0yKhA",
      "include_colab_link": true
    },
    "kernelspec": {
      "name": "python3",
      "display_name": "Python 3"
    },
    "language_info": {
      "name": "python"
    }
  },
  "cells": [
    {
      "cell_type": "markdown",
      "metadata": {
        "id": "view-in-github",
        "colab_type": "text"
      },
      "source": [
        "<a href=\"https://colab.research.google.com/github/Ayush8795/Cicada_Hackathon/blob/main/LinkExtractorFile.ipynb\" target=\"_parent\"><img src=\"https://colab.research.google.com/assets/colab-badge.svg\" alt=\"Open In Colab\"/></a>"
      ]
    },
    {
      "cell_type": "code",
      "execution_count": null,
      "metadata": {
        "id": "fsA7pyJn1Ny-"
      },
      "outputs": [],
      "source": []
    },
    {
      "cell_type": "markdown",
      "source": [
        "##Links extraction File"
      ],
      "metadata": {
        "id": "jPyJ6whk01aC"
      }
    },
    {
      "cell_type": "code",
      "source": [
        "!sudo apt-get install tesseract-ocr"
      ],
      "metadata": {
        "colab": {
          "base_uri": "https://localhost:8080/"
        },
        "id": "9toz1LDst89i",
        "outputId": "66a26c15-518b-4b5e-f6cd-b449fd16c5cf"
      },
      "execution_count": null,
      "outputs": [
        {
          "output_type": "stream",
          "name": "stdout",
          "text": [
            "Reading package lists... Done\n",
            "Building dependency tree       \n",
            "Reading state information... Done\n",
            "tesseract-ocr is already the newest version (4.00~git2288-10f4998a-2).\n",
            "The following package was automatically installed and is no longer required:\n",
            "  libnvidia-common-460\n",
            "Use 'sudo apt autoremove' to remove it.\n",
            "0 upgraded, 0 newly installed, 0 to remove and 5 not upgraded.\n"
          ]
        }
      ]
    },
    {
      "cell_type": "code",
      "source": [
        "!pip install pytesseract"
      ],
      "metadata": {
        "colab": {
          "base_uri": "https://localhost:8080/"
        },
        "id": "_q965EXigiCl",
        "outputId": "13f362a5-1855-4316-ffcf-f83261ceee75"
      },
      "execution_count": null,
      "outputs": [
        {
          "output_type": "stream",
          "name": "stdout",
          "text": [
            "Looking in indexes: https://pypi.org/simple, https://us-python.pkg.dev/colab-wheels/public/simple/\n",
            "Requirement already satisfied: pytesseract in /usr/local/lib/python3.7/dist-packages (0.3.10)\n",
            "Requirement already satisfied: Pillow>=8.0.0 in /usr/local/lib/python3.7/dist-packages (from pytesseract) (9.3.0)\n",
            "Requirement already satisfied: packaging>=21.3 in /usr/local/lib/python3.7/dist-packages (from pytesseract) (21.3)\n",
            "Requirement already satisfied: pyparsing!=3.0.5,>=2.0.2 in /usr/local/lib/python3.7/dist-packages (from packaging>=21.3->pytesseract) (3.0.9)\n"
          ]
        }
      ]
    },
    {
      "cell_type": "code",
      "execution_count": null,
      "metadata": {
        "id": "L_Qy1_YIgKvT"
      },
      "outputs": [],
      "source": [
        "import cv2\n",
        "import pytesseract as tess\n",
        "import numpy as np"
      ]
    },
    {
      "cell_type": "code",
      "source": [
        "file_path= '/content/Screenshot_20221117_102401.png'"
      ],
      "metadata": {
        "id": "st4xC-n9gS2T"
      },
      "execution_count": null,
      "outputs": []
    },
    {
      "cell_type": "code",
      "source": [
        "img= cv2.imread(file_path)\n",
        "gray_img= cv2.cvtColor(img,cv2.COLOR_RGB2GRAY)\n",
        "gray_img, img_bin= cv2.threshold(gray_img,128,255,cv2.THRESH_BINARY | cv2.THRESH_OTSU)"
      ],
      "metadata": {
        "id": "lCqjdyxCg5Pd"
      },
      "execution_count": null,
      "outputs": []
    },
    {
      "cell_type": "code",
      "source": [
        "gray_img = cv2.bitwise_not(img_bin)"
      ],
      "metadata": {
        "id": "ZBKHgph3qpXS"
      },
      "execution_count": null,
      "outputs": []
    },
    {
      "cell_type": "code",
      "source": [
        "kernel = np.ones((2, 1), np.uint8)\n",
        "img = cv2.erode(gray_img, kernel, iterations=1)\n",
        "img = cv2.dilate(img, kernel, iterations=1)\n",
        "out_below = tess.image_to_string(img)\n",
        "# print(\"OUTPUT:\", out_below)"
      ],
      "metadata": {
        "id": "3uOacUfWqrHv"
      },
      "execution_count": null,
      "outputs": []
    },
    {
      "cell_type": "code",
      "source": [
        "print(out_below)"
      ],
      "metadata": {
        "colab": {
          "base_uri": "https://localhost:8080/"
        },
        "id": "ZVB51cfCgAH0",
        "outputId": "79cd9d4d-79f4-4d1e-af9c-02b5d4886359"
      },
      "execution_count": null,
      "outputs": [
        {
          "output_type": "stream",
          "name": "stdout",
          "text": [
            "PC hee ieee ee UE ele en mCi Lee et ae eet acer ice]\n",
            "image in the menu item Design Lhe first layer can be set as a fixed image. By inserting the\n",
            "widget Images or the widget Text, a background (photo or monochrome) can be selected. This\n",
            "background must be created in Jimdo Creator across the entire width of the page and thus\n",
            "represents the second layer that slides over the first layer. An example of this is the fallowing\n",
            "page: https://onepage-website.jimdofree.com/ The look of the pane leaves a lot to be desired,\n",
            "Ue Cie Ee aaa Fe telele\n",
            "\n",
            "ottite R eee Chae MER ec MU meee cee Came eRe\n",
            "Ee CE ema ee UCC le hee lmedell te Meee laser hem cd\n",
            "many single pictures can be scrolled. An example for this is the start page of\n",
            "www.hannahrohde.de which | created. However, it can't be created directly in Jimdo with\n",
            "Jimdo widgets or settings, but requires an installation via html code. If you're interested in\n",
            "Rue SiC E mmc Cenk\n",
            "\f\n"
          ]
        }
      ]
    },
    {
      "cell_type": "code",
      "source": [
        "# !pip install idna\n",
        "# !pip install uritools\n",
        "# !pip install platformdirs\n",
        "# !pip install dnspython"
      ],
      "metadata": {
        "id": "rXlB6hyWoSnB"
      },
      "execution_count": null,
      "outputs": []
    },
    {
      "cell_type": "code",
      "source": [
        "# !pip install tox"
      ],
      "metadata": {
        "id": "66DrEd8EoTAn"
      },
      "execution_count": null,
      "outputs": []
    },
    {
      "cell_type": "code",
      "source": [
        "!pip install urlextract"
      ],
      "metadata": {
        "colab": {
          "base_uri": "https://localhost:8080/"
        },
        "id": "nFPVgNOmo_3x",
        "outputId": "7b3822d6-519a-417d-b72e-f5219a506620"
      },
      "execution_count": null,
      "outputs": [
        {
          "output_type": "stream",
          "name": "stdout",
          "text": [
            "Looking in indexes: https://pypi.org/simple, https://us-python.pkg.dev/colab-wheels/public/simple/\n",
            "Collecting urlextract\n",
            "  Downloading urlextract-1.7.1-py3-none-any.whl (20 kB)\n",
            "Requirement already satisfied: filelock in /usr/local/lib/python3.7/dist-packages (from urlextract) (3.8.0)\n",
            "Requirement already satisfied: platformdirs in /usr/local/lib/python3.7/dist-packages (from urlextract) (2.5.4)\n",
            "Requirement already satisfied: idna in /usr/local/lib/python3.7/dist-packages (from urlextract) (2.10)\n",
            "Requirement already satisfied: uritools in /usr/local/lib/python3.7/dist-packages (from urlextract) (4.0.0)\n",
            "Installing collected packages: urlextract\n",
            "Successfully installed urlextract-1.7.1\n"
          ]
        }
      ]
    },
    {
      "cell_type": "code",
      "source": [
        "from urlextract import URLExtract\n",
        "\n",
        "extractor = URLExtract()\n",
        "urls = extractor.find_urls(out_below)\n",
        "print(urls)"
      ],
      "metadata": {
        "colab": {
          "base_uri": "https://localhost:8080/"
        },
        "id": "F5Sm-hEooTZc",
        "outputId": "081c10fb-eb14-4abb-8a2f-1ed99d1e880e"
      },
      "execution_count": null,
      "outputs": [
        {
          "output_type": "stream",
          "name": "stdout",
          "text": [
            "['https://onepage-website.jimdofree.com/', 'www.hannahrohde.de']\n"
          ]
        }
      ]
    }
  ]
}